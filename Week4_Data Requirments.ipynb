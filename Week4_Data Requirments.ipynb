{
 "cells": [
  {
   "cell_type": "markdown",
   "metadata": {},
   "source": [
    "<H1>Data</H1>\n",
    "Required Data will be gathered from different sources.\n",
    "\n",
    "<ul>\n",
    "<li> Madrid information, including districts and neighborhoods, can be obtained from Wikipedia: Madrid </li>\n",
    "\n",
    " <li> In order to make location recommendation, to establish the restaurant Madrid segmentation must be based on different   neighborhood\n",
    "Full names of list must be extracted from the wikipedia page in order to gecode them with Foursquare services for obtaining venues\n",
    "In order to obtain venues and their categories we will use FOURSQUARE\n",
    "</ul>"
   ]
  }
 ],
 "metadata": {
  "kernelspec": {
   "display_name": "Python 3",
   "language": "python",
   "name": "python3"
  },
  "language_info": {
   "codemirror_mode": {
    "name": "ipython",
    "version": 3
   },
   "file_extension": ".py",
   "mimetype": "text/x-python",
   "name": "python",
   "nbconvert_exporter": "python",
   "pygments_lexer": "ipython3",
   "version": "3.6.8"
  }
 },
 "nbformat": 4,
 "nbformat_minor": 2
}
