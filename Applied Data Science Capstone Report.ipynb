{
 "cells": [
  {
   "cell_type": "markdown",
   "metadata": {},
   "source": [
    "<H1>Applied Data Science Capstone</H1>\n",
    "<H2>The Battle of Neighbourhood</H2>\n",
    "<H3>Segmenting Madrid</H3>"
   ]
  },
  {
   "cell_type": "markdown",
   "metadata": {},
   "source": [
    "<ol>\n",
    "  <li>Introduction</li>\n",
    "  <li>Data</li>\n",
    "  <li>Methodology</li>\n",
    "  <li>Results</li>\n",
    "  <li>Discussion</li>\n",
    "  <li>Conclusion</li>\n",
    "  \n",
    "</ol>"
   ]
  },
  {
   "cell_type": "markdown",
   "metadata": {},
   "source": [
    "<H3>Introduction</H3>"
   ]
  },
  {
   "cell_type": "markdown",
   "metadata": {},
   "source": [
    "\"Tuk Tuk Indian Street Food\" is a chain of restaurant located in Edinburg, Scotland, it offers different Indian style food inspired from streets of India. Edinburgh flagship restaurant is known for its colourful interiors, serving small plates of delicious Indian street food. Tuk Tuk is inspired by the food hawkers of India, where we do with a mix of rustic roadside and railway station dishes. Millions of street food vendors make up the colour, sounds and smells of India. The owners of this restaurant wants to expand their chain to Europe and they are very interested in establish a new restaurant in Madrid, Spain.\n",
    "\n",
    "Madrid it's a big city with more than 3 millions inhabitants and a metropolitan area population of about 6.5 millions. It's composed by more than one hundred neighborhoods, with different characteristics. In order to get directions about where to establish their first restaurant in Madrid, the owners of \"Tuk Tuk Indian Street Food\" has asked us to do an study of different places of the city.\n",
    "\n",
    "Marketing consultants has determined that we must pay special attention to entertainment services, because they are considered attractive to potential customers. In example it's very common that people go to the restaurant after the theatre or other kind of cultural activity."
   ]
  },
  {
   "cell_type": "markdown",
   "metadata": {},
   "source": [
    "<H3>Data</H3>"
   ]
  },
  {
   "cell_type": "markdown",
   "metadata": {},
   "source": [
    "Required Data will be gathered from different sources.\n",
    "<ul>\n",
    "    Madrid information, including districts and neighborhoods, can be obtained from Wikipedia: <a href='https://en.wikipedia.org/wiki/Madrid'>Madrid</a>\n",
    "    \n",
    "   <li>In order to make location recommendation, to establish the restaurant Madrid segmentation must be based on different neighbourhood</li>\n",
    "    <li>Full names of list must be extracted from the wikipedia page in order to gecode them with Foursquare services for obtaining venues</li>\n",
    "    <li>In order to obtain venues and their categories we will use FOURSQUARE</li>\n",
    "       \n",
    "       "
   ]
  },
  {
   "cell_type": "markdown",
   "metadata": {},
   "source": [
    "<H3>Methodology</H3>"
   ]
  },
  {
   "cell_type": "markdown",
   "metadata": {},
   "source": [
    "A notebook will be created in order to process data and segment the neighbourhood. The detailed methodology is described below:"
   ]
  },
  {
   "cell_type": "markdown",
   "metadata": {},
   "source": [
    "<ol>\n",
    "<li><b>Build Neigbourhood List</b>:  A list of districts is obtained from Madrid Wikipedia page. That list contains the names of the neighborhoods for avery district.\n",
    "As output a dataset containing a list of \"district,neighborhood\" is build.</li>\n",
    "<li><b>Neighbourhoods Geolocation</b>: Every element of the neighbourhood is geolocated using the Python Geolocator and two columns are updated based on the latitude and longitude of the neighbourhoods. The geolocator service has some problem. Most of the time it gives time out error. So will save the result in a text file in CSV format. Therefore this step can be run many times, invoking geolocator only for missing data. After various execution. After various execution, all the geolocation data is obtained and we can us the text file. </li>\n",
    "<li><b>Venues Compilation:</b> As next step, Foursquare values are obtained for different venues of every neighbourhood.A free Foursquare service with limited count of calls is used. In order to minimize the usage of Foursquare, the information is saved in a text (CSV) file. It is supposed that the information gathered doesn't change in short period of time (some hours). </li> \n",
    "<li><b>Neighbourhood Segmentation:</b> In order to segment the data in unsupervised way, we have chosen k-means clustering technique.\n",
    "<ul>\n",
    "    <li>Location data collected through foursquare must have to be categorical and it must have been previously processed to be used for k-means</li>\n",
    "    <li>After executing K-means algorithm the \"Elbow Curve\" it's plotted in order to obtain the best K. Analyzing the change in the slope of the curve, it's determined that K=10 is a good value.</li>\n",
    "<li>K-means algorithm is executed.</li>\n",
    "<li>Next step is build the segmentation dataframe, composed of the top venues for every neighborhood plus a segment label determined by K-means.</li>\n",
    "    </li>\n",
    " </ul>   </li>   \n",
    " <li><b>Segment Analysis:</b> Every segment is printed individually where different characteristics can be observed for each group.</li>\n",
    "</ol>"
   ]
  },
  {
   "cell_type": "markdown",
   "metadata": {},
   "source": [
    "<H3>Results</H3>"
   ]
  },
  {
   "cell_type": "markdown",
   "metadata": {},
   "source": [
    "In order to complete cluster segmenting Madrid, we have defined ten clusters. The characteristics were shown below:\n",
    "\n",
    "<b>Cluster 1:</b> In this cluster, all the Spanish restaurants along with bars were present. There were other interesting places like theatres, pubs which initiates a lot of competition to handle for a startup. Though ours is an Indian Food restaurant which is unique in its kind."
   ]
  },
  {
   "cell_type": "markdown",
   "metadata": {},
   "source": [
    "<b>Cluster 2:</b> It's a cluster with just one record. Not a very significant cluster though\n"
   ]
  },
  {
   "cell_type": "markdown",
   "metadata": {},
   "source": [
    "<b>Cluster 3:</b> Quite a significant cluster with some African, American, Argentinian and Arepa restaurant. It indicates no Indian restaurant in the region. It means there are no such competition for us. "
   ]
  },
  {
   "cell_type": "markdown",
   "metadata": {},
   "source": [
    "<b>Cluster 4: </b> Much like Cluster 4, this cluster contains four record. Not a very significant cluster though."
   ]
  },
  {
   "cell_type": "markdown",
   "metadata": {},
   "source": [
    "<b>Cluster 5: </b> Cluster 5 looks like a very significant cluster with some American, Argentine and African restaurant. It also contains some entertainment places like Art gallery, Art museum which makes it a very lucrative cluster."
   ]
  },
  {
   "cell_type": "markdown",
   "metadata": {},
   "source": [
    "<b>Cluster 6:</b> Cluster 6 do not looks like a significant one with very few record."
   ]
  },
  {
   "cell_type": "markdown",
   "metadata": {},
   "source": [
    "<b>CLuster 7,8 and 9: </b> These 3 clusters do not look like significant because of very few data. "
   ]
  },
  {
   "cell_type": "markdown",
   "metadata": {},
   "source": [
    "<b>Cluster 10: </b> This cluster seems like a very important one with lots of different restaurant, entertainment places. "
   ]
  },
  {
   "cell_type": "code",
   "execution_count": null,
   "metadata": {},
   "outputs": [],
   "source": []
  }
 ],
 "metadata": {
  "kernelspec": {
   "display_name": "Python 3",
   "language": "python",
   "name": "python3"
  },
  "language_info": {
   "codemirror_mode": {
    "name": "ipython",
    "version": 3
   },
   "file_extension": ".py",
   "mimetype": "text/x-python",
   "name": "python",
   "nbconvert_exporter": "python",
   "pygments_lexer": "ipython3",
   "version": "3.6.8"
  }
 },
 "nbformat": 4,
 "nbformat_minor": 2
}
