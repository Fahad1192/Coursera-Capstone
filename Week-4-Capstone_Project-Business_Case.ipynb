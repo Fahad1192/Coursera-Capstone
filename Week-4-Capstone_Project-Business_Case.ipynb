{
 "cells": [
  {
   "cell_type": "markdown",
   "metadata": {},
   "source": [
    "\n",
    "<b> Business Case </b>\n"
   ]
  },
  {
   "cell_type": "markdown",
   "metadata": {},
   "source": [
    "\"Tuk Tuk Indian Street Food\" is a chain of restaurant located in Edinburg, Scotland, it offers different Indian style food inspired from streets of India. Edinburgh flagship restaurant is known for its colourful interiors, serving small plates of delicious Indian street food. Tuk Tuk is inspired by the food hawkers of India, where we do with a mix of rustic roadside and railway station dishes. Millions of street food vendors make up the colour, sounds and smells of India. The owners of this restaurant wants to expand their chain to Europe and they are very interested in establish a new restaurant in Madrid, Spain.\n",
    "\n",
    "Madrid it's a big city with more than 3 millions inhabitants and a metropolitan area population of about 6.5 millions. It's composed by more than one hundred neighborhoods, with different characteristics. In order to get directions about where to establish their first restaurant in Madrid, the owners of \"Tuk Tuk Indian Street Food\" has asked us to do an study of different places of the city.\n",
    "\n",
    "Marketing consultants has determined that we must pay special attention to entertainment services, because they are considered attractive to potential customers. In example it's very common that people go to the restaurant after the theatre or other kind of cultural activity."
   ]
  }
 ],
 "metadata": {
  "kernelspec": {
   "display_name": "Python 3",
   "language": "python",
   "name": "python3"
  },
  "language_info": {
   "codemirror_mode": {
    "name": "ipython",
    "version": 3
   },
   "file_extension": ".py",
   "mimetype": "text/x-python",
   "name": "python",
   "nbconvert_exporter": "python",
   "pygments_lexer": "ipython3",
   "version": "3.6.8"
  }
 },
 "nbformat": 4,
 "nbformat_minor": 2
}
